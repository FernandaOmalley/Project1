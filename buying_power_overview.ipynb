{
 "cells": [
  {
   "cell_type": "code",
   "execution_count": 5,
   "id": "67fc2023-68ba-4131-bd38-f29d7ffca3cc",
   "metadata": {},
   "outputs": [],
   "source": [
    "# Imports\n",
    "import plotly.express as px\n",
    "import matplotlib.pyplot as plt\n",
    "import panel as pn\n",
    "import pandas as pd\n",
    "import os\n",
    "from pathlib import Path\n",
    "from dotenv import load_dotenv"
   ]
  },
  {
   "cell_type": "code",
   "execution_count": 6,
   "id": "c4f59be9-2302-404c-9b4c-83849461c846",
   "metadata": {},
   "outputs": [],
   "source": [
    "# Set up Panel Plotly extension\n",
    "pn.extension('plotly')"
   ]
  },
  {
   "cell_type": "code",
   "execution_count": 7,
   "id": "878a5a73-47e9-4214-aa24-b855226a1fe8",
   "metadata": {},
   "outputs": [],
   "source": [
    "# Import hvplot.pandas after pn.extension\n",
    "import hvplot.pandas"
   ]
  },
  {
   "cell_type": "code",
   "execution_count": 8,
   "id": "d7de3caf-1792-4f39-8f6d-d13f303a8452",
   "metadata": {},
   "outputs": [
    {
     "data": {
      "text/html": [
       "<div>\n",
       "<style scoped>\n",
       "    .dataframe tbody tr th:only-of-type {\n",
       "        vertical-align: middle;\n",
       "    }\n",
       "\n",
       "    .dataframe tbody tr th {\n",
       "        vertical-align: top;\n",
       "    }\n",
       "\n",
       "    .dataframe thead th {\n",
       "        text-align: right;\n",
       "    }\n",
       "</style>\n",
       "<table border=\"1\" class=\"dataframe\">\n",
       "  <thead>\n",
       "    <tr style=\"text-align: right;\">\n",
       "      <th></th>\n",
       "      <th>Composite_HPI_SA</th>\n",
       "      <th>Composite_Benchmark_SA</th>\n",
       "    </tr>\n",
       "    <tr>\n",
       "      <th>Date</th>\n",
       "      <th></th>\n",
       "      <th></th>\n",
       "    </tr>\n",
       "  </thead>\n",
       "  <tbody>\n",
       "    <tr>\n",
       "      <th>2005-01-01</th>\n",
       "      <td>100.0</td>\n",
       "      <td>309000.0</td>\n",
       "    </tr>\n",
       "    <tr>\n",
       "      <th>2005-02-01</th>\n",
       "      <td>100.2</td>\n",
       "      <td>309700.0</td>\n",
       "    </tr>\n",
       "    <tr>\n",
       "      <th>2005-03-01</th>\n",
       "      <td>100.6</td>\n",
       "      <td>311000.0</td>\n",
       "    </tr>\n",
       "    <tr>\n",
       "      <th>2005-04-01</th>\n",
       "      <td>101.0</td>\n",
       "      <td>312100.0</td>\n",
       "    </tr>\n",
       "    <tr>\n",
       "      <th>2005-05-01</th>\n",
       "      <td>101.5</td>\n",
       "      <td>313600.0</td>\n",
       "    </tr>\n",
       "  </tbody>\n",
       "</table>\n",
       "</div>"
      ],
      "text/plain": [
       "            Composite_HPI_SA  Composite_Benchmark_SA\n",
       "Date                                                \n",
       "2005-01-01             100.0                309000.0\n",
       "2005-02-01             100.2                309700.0\n",
       "2005-03-01             100.6                311000.0\n",
       "2005-04-01             101.0                312100.0\n",
       "2005-05-01             101.5                313600.0"
      ]
     },
     "execution_count": 8,
     "metadata": {},
     "output_type": "execute_result"
    }
   ],
   "source": [
    "# Reading data\n",
    "\n",
    "# Reading House Price Index (HPI) dataset\n",
    "hpi_path = Path(\"Data/hpi_by_housing_type_2005_2021.csv\")\n",
    "df_hpi= pd.read_csv(hpi_path, index_col=\"Date\")\n",
    "df_hpi=df_hpi[[\"Composite_HPI_SA\", \"Composite_Benchmark_SA\"]].dropna()\n",
    "df_hpi.head()"
   ]
  },
  {
   "cell_type": "markdown",
   "id": "4e10f48b-796b-40c6-8bd3-2403c393c286",
   "metadata": {},
   "source": [
    "## House Price Index (HPI) Analysis"
   ]
  },
  {
   "cell_type": "code",
   "execution_count": 10,
   "id": "c0812a91-9f00-4ef6-a317-81258bd9c73b",
   "metadata": {},
   "outputs": [],
   "source": [
    "# Create new dataframe for HPI and benchmark value\n"
   ]
  },
  {
   "cell_type": "code",
   "execution_count": null,
   "id": "2f1c75e1-5711-4d02-b9e4-d5b079418916",
   "metadata": {},
   "outputs": [],
   "source": []
  }
 ],
 "metadata": {
  "kernelspec": {
   "display_name": "Python [conda env:pyvizenv2]",
   "language": "python",
   "name": "conda-env-pyvizenv2-py"
  },
  "language_info": {
   "codemirror_mode": {
    "name": "ipython",
    "version": 3
   },
   "file_extension": ".py",
   "mimetype": "text/x-python",
   "name": "python",
   "nbconvert_exporter": "python",
   "pygments_lexer": "ipython3",
   "version": "3.7.10"
  }
 },
 "nbformat": 4,
 "nbformat_minor": 5
}
